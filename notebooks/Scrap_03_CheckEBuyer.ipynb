{
 "cells": [
  {
   "cell_type": "markdown",
   "id": "accessory-apparatus",
   "metadata": {},
   "source": [
    "# Imports"
   ]
  },
  {
   "cell_type": "code",
   "execution_count": 1,
   "id": "amateur-sensitivity",
   "metadata": {},
   "outputs": [],
   "source": [
    "import os\n",
    "import sys\n",
    "import gzip\n",
    "import pickle\n",
    "import urllib\n",
    "import datetime as dt\n",
    "\n",
    "import bs4\n",
    "from bs4 import BeautifulSoup\n",
    "\n",
    "from typing import Any"
   ]
  },
  {
   "cell_type": "markdown",
   "id": "addressed-conditions",
   "metadata": {},
   "source": [
    "# Helpers to Get Content"
   ]
  },
  {
   "cell_type": "code",
   "execution_count": 2,
   "id": "continuing-memphis",
   "metadata": {},
   "outputs": [],
   "source": [
    "def get_object_pickled_gzip(filepath: str) -> Any:\n",
    "    assert isinstance(filepath, str)\n",
    "\n",
    "    with gzip.open(filepath, 'rb') as f:\n",
    "        pickled_obj = f.read()  # Extract GZIP\n",
    "        unpickled_obj = pickle.loads(pickled_obj)  # Un-pickle\n",
    "    return unpickled_obj"
   ]
  },
  {
   "cell_type": "code",
   "execution_count": 3,
   "id": "homeless-album",
   "metadata": {},
   "outputs": [],
   "source": [
    "def get_website_as_string(url: str) -> str:\n",
    "    \n",
    "    # Header is required so we don't get 403 error\n",
    "    hdr = {'User-Agent': 'Mozilla/5.0 (X11; Linux x86_64) AppleWebKit/537.11 (KHTML, like Gecko) Chrome/23.0.1271.64 Safari/537.11',\n",
    "       'Accept': 'text/html,application/xhtml+xml,application/xml;q=0.9,*/*;q=0.8',\n",
    "       'Accept-Charset': 'ISO-8859-1,utf-8;q=0.7,*;q=0.3',\n",
    "       'Accept-Encoding': 'none',\n",
    "       'Accept-Language': 'en-US,en;q=0.8',\n",
    "       'Connection': 'keep-alive'}\n",
    "    req = urllib.request.Request(url, headers=hdr)\n",
    "    response = urllib.request.urlopen(req)\n",
    "    content_raw = response.read()\n",
    "    content = content_raw.decode()\n",
    "    \n",
    "    return content   # HTML with embedded script source code"
   ]
  },
  {
   "cell_type": "markdown",
   "id": "adjustable-benefit",
   "metadata": {},
   "source": [
    "# Helpers to Extract EBuyer"
   ]
  },
  {
   "cell_type": "code",
   "execution_count": 4,
   "id": "greater-italian",
   "metadata": {},
   "outputs": [],
   "source": [
    "def check_title_and_link(product_tag: bs4.element.Tag):\n",
    "    assert isinstance(product_tag, bs4.element.Tag)\n",
    "    link_a = product.select_one('h3.grid-item__title > a')\n",
    "    # print(link_a)\n",
    "    \n",
    "    title = link_a.text.strip()\n",
    "    # print(title)\n",
    "\n",
    "    link_a_href = link_a['href']\n",
    "    full_link = 'https://www.ebuyer.com' + link_a_href\n",
    "    # print(full_link)\n",
    "    return title, full_link"
   ]
  },
  {
   "cell_type": "code",
   "execution_count": 5,
   "id": "registered-headline",
   "metadata": {},
   "outputs": [],
   "source": [
    "def check_available(product_tag: bs4.element.Tag):\n",
    "    assert isinstance(product_tag, bs4.element.Tag)\n",
    "    \n",
    "    button_basket = product.select_one('div.grid-item__buttons > button.button--mini-basket')\n",
    "    \n",
    "    if button_basket is not None:\n",
    "        assert button_basket.text.strip().lower() == 'add to basket'\n",
    "        return True   # check succeded, product is available\n",
    "    else:\n",
    "        return False  # check failed"
   ]
  },
  {
   "cell_type": "code",
   "execution_count": 6,
   "id": "generous-activation",
   "metadata": {},
   "outputs": [],
   "source": [
    "def check_not_available(product_tag: bs4.element.Tag):\n",
    "    assert isinstance(product_tag, bs4.element.Tag)\n",
    "    \n",
    "    p_coming_soon = product.select_one('p.grid-item__coming-soon')\n",
    "    # print(p_coming_soon)\n",
    "    \n",
    "    if p_coming_soon is not None:\n",
    "        assert p_coming_soon.text.strip().lower() == 'coming soon'\n",
    "        return True   # check succeded, product IS NOT available!\n",
    "    else:\n",
    "        return False  # check failed"
   ]
  },
  {
   "cell_type": "code",
   "execution_count": 7,
   "id": "third-express",
   "metadata": {},
   "outputs": [],
   "source": [
    "def check_product(datetime_str: str, product_tag: bs4.element.Tag):\n",
    "    assert isinstance(datetime_str, str)\n",
    "    assert dt.datetime.fromisoformat(datetime_str)\n",
    "    assert isinstance(product_tag, bs4.element.Tag)\n",
    "    \n",
    "    title, link = check_title_and_link(product)\n",
    "    \n",
    "    is_available = check_available(product)\n",
    "    is_not_available = check_not_available(product)\n",
    "    \n",
    "    assert is_available or is_not_available\n",
    "    assert not (is_available and is_not_available)\n",
    "    \n",
    "    return {\n",
    "        'supplier': 'ebuyer',\n",
    "        'datetime': datetime_str,\n",
    "        'title': title,\n",
    "        'link': link,\n",
    "        'available': is_available,\n",
    "    }        "
   ]
  },
  {
   "cell_type": "markdown",
   "id": "existing-prototype",
   "metadata": {},
   "source": [
    "# Get Content GZIP"
   ]
  },
  {
   "cell_type": "code",
   "execution_count": 8,
   "id": "nutritional-scratch",
   "metadata": {},
   "outputs": [],
   "source": [
    "filepath = '/mnt/data/ebuyer_3060ti/2021-02-23_10-48-01.pkl.gzip'"
   ]
  },
  {
   "cell_type": "code",
   "execution_count": 9,
   "id": "black-democrat",
   "metadata": {},
   "outputs": [],
   "source": [
    "requests_collection = get_object_pickled_gzip(filepath)"
   ]
  },
  {
   "cell_type": "code",
   "execution_count": 10,
   "id": "noble-brook",
   "metadata": {},
   "outputs": [],
   "source": [
    "request_dict = requests_collection[0]"
   ]
  },
  {
   "cell_type": "code",
   "execution_count": 11,
   "id": "underlying-prophet",
   "metadata": {},
   "outputs": [
    {
     "data": {
      "text/plain": [
       "'2021-02-23T10:47:38.858159'"
      ]
     },
     "execution_count": 11,
     "metadata": {},
     "output_type": "execute_result"
    }
   ],
   "source": [
    "datetime_str = request_dict['datetime']()\n",
    "datetime_str"
   ]
  },
  {
   "cell_type": "code",
   "execution_count": 12,
   "id": "geographic-installation",
   "metadata": {},
   "outputs": [],
   "source": [
    "traceback = request_dict['traceback']\n",
    "traceback"
   ]
  },
  {
   "cell_type": "code",
   "execution_count": 13,
   "id": "hidden-portugal",
   "metadata": {},
   "outputs": [],
   "source": [
    "content = request_dict['content']"
   ]
  },
  {
   "cell_type": "markdown",
   "id": "satisfactory-plain",
   "metadata": {},
   "source": [
    "# Get Content URL"
   ]
  },
  {
   "cell_type": "code",
   "execution_count": 14,
   "id": "unlikely-expansion",
   "metadata": {},
   "outputs": [],
   "source": [
    "# content = get_website_as_string('https://www.ebuyer.com/store/Components/cat/Graphics-Cards-Nvidia?page=9')"
   ]
  },
  {
   "cell_type": "markdown",
   "id": "allied-connectivity",
   "metadata": {},
   "source": [
    "# Check Content"
   ]
  },
  {
   "cell_type": "code",
   "execution_count": 15,
   "id": "about-tomorrow",
   "metadata": {},
   "outputs": [],
   "source": [
    "soup = bs4.BeautifulSoup(content)"
   ]
  },
  {
   "cell_type": "code",
   "execution_count": 16,
   "id": "tribal-bathroom",
   "metadata": {},
   "outputs": [],
   "source": [
    "product_list = soup.select('div.grid-item')"
   ]
  },
  {
   "cell_type": "code",
   "execution_count": 17,
   "id": "vanilla-celtic",
   "metadata": {},
   "outputs": [
    {
     "data": {
      "text/plain": [
       "24"
      ]
     },
     "execution_count": 17,
     "metadata": {},
     "output_type": "execute_result"
    }
   ],
   "source": [
    "len(product_list)"
   ]
  },
  {
   "cell_type": "code",
   "execution_count": 18,
   "id": "partial-yesterday",
   "metadata": {},
   "outputs": [],
   "source": [
    "product = product_list[0]"
   ]
  },
  {
   "cell_type": "code",
   "execution_count": 19,
   "id": "extensive-participation",
   "metadata": {},
   "outputs": [
    {
     "data": {
      "text/plain": [
       "{'supplier': 'ebuyer',\n",
       " 'datetime': '2021-02-23T10:47:38.858159',\n",
       " 'title': 'Gigabyte GeForce RTX 3060 Ti 8GB GAMING OC PRO Ampere Graphics Card',\n",
       " 'link': 'https://www.ebuyer.com/1133708-gigabyte-geforce-rtx-3060-ti-8gb-gaming-oc-pro-ampere-graphics-card-gv-n306tgamingoc-pro-8gd-2-0',\n",
       " 'available': False}"
      ]
     },
     "execution_count": 19,
     "metadata": {},
     "output_type": "execute_result"
    }
   ],
   "source": [
    "check_product(datetime_str, product)"
   ]
  },
  {
   "cell_type": "code",
   "execution_count": null,
   "id": "cooked-orange",
   "metadata": {},
   "outputs": [],
   "source": []
  },
  {
   "cell_type": "code",
   "execution_count": null,
   "id": "hawaiian-telephone",
   "metadata": {},
   "outputs": [],
   "source": []
  },
  {
   "cell_type": "code",
   "execution_count": null,
   "id": "graduate-disney",
   "metadata": {},
   "outputs": [],
   "source": []
  }
 ],
 "metadata": {
  "kernelspec": {
   "display_name": "Python 3",
   "language": "python",
   "name": "python3"
  },
  "language_info": {
   "codemirror_mode": {
    "name": "ipython",
    "version": 3
   },
   "file_extension": ".py",
   "mimetype": "text/x-python",
   "name": "python",
   "nbconvert_exporter": "python",
   "pygments_lexer": "ipython3",
   "version": "3.9.0"
  }
 },
 "nbformat": 4,
 "nbformat_minor": 5
}
