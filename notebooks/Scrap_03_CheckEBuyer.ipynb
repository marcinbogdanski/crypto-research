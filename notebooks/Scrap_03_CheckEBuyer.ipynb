{
 "cells": [
  {
   "cell_type": "markdown",
   "id": "coated-quest",
   "metadata": {},
   "source": [
    "# Imports"
   ]
  },
  {
   "cell_type": "code",
   "execution_count": 1,
   "id": "finished-seafood",
   "metadata": {},
   "outputs": [],
   "source": [
    "import os\n",
    "import sys\n",
    "import glob\n",
    "import gzip\n",
    "import json\n",
    "import pickle\n",
    "import urllib\n",
    "import traceback\n",
    "import datetime as dt\n",
    "import concurrent.futures\n",
    "\n",
    "import bs4\n",
    "from bs4 import BeautifulSoup\n",
    "from tqdm.auto import tqdm\n",
    "\n",
    "from typing import Any, Dict, List, Optional, Tuple"
   ]
  },
  {
   "cell_type": "markdown",
   "id": "broke-mercy",
   "metadata": {},
   "source": [
    "# Helpers to Get Content"
   ]
  },
  {
   "cell_type": "code",
   "execution_count": 2,
   "id": "promotional-marriage",
   "metadata": {},
   "outputs": [],
   "source": [
    "def get_object_pickled_gzip(filepath: str) -> Any:\n",
    "    assert isinstance(filepath, str)\n",
    "\n",
    "    with gzip.open(filepath, 'rb') as f:\n",
    "        pickled_obj = f.read()  # Extract GZIP\n",
    "        unpickled_obj = pickle.loads(pickled_obj)  # Un-pickle\n",
    "    return unpickled_obj"
   ]
  },
  {
   "cell_type": "code",
   "execution_count": 3,
   "id": "extra-jesus",
   "metadata": {},
   "outputs": [],
   "source": [
    "def get_website_as_string(url: str) -> str:\n",
    "    \n",
    "    # Header is required so we don't get 403 error\n",
    "    hdr = {'User-Agent': 'Mozilla/5.0 (X11; Linux x86_64) AppleWebKit/537.11 (KHTML, like Gecko) Chrome/23.0.1271.64 Safari/537.11',\n",
    "       'Accept': 'text/html,application/xhtml+xml,application/xml;q=0.9,*/*;q=0.8',\n",
    "       'Accept-Charset': 'ISO-8859-1,utf-8;q=0.7,*;q=0.3',\n",
    "       'Accept-Encoding': 'none',\n",
    "       'Accept-Language': 'en-US,en;q=0.8',\n",
    "       'Connection': 'keep-alive'}\n",
    "    req = urllib.request.Request(url, headers=hdr)\n",
    "    response = urllib.request.urlopen(req)\n",
    "    content_raw = response.read()\n",
    "    content = content_raw.decode()\n",
    "    \n",
    "    return content   # HTML with embedded script source code"
   ]
  },
  {
   "cell_type": "markdown",
   "id": "greenhouse-brighton",
   "metadata": {},
   "source": [
    "# Helpers to Extract EBuyer"
   ]
  },
  {
   "cell_type": "code",
   "execution_count": 4,
   "id": "pregnant-snapshot",
   "metadata": {},
   "outputs": [],
   "source": [
    "class CheckerEBuyer:\n",
    "    \n",
    "    @staticmethod\n",
    "    def _check_title_and_link(product_tag: bs4.element.Tag) -> Tuple[str, str]:\n",
    "        assert isinstance(product_tag, bs4.element.Tag)\n",
    "        link_a = product_tag.select_one('h3.grid-item__title > a')\n",
    "        # print(link_a)\n",
    "\n",
    "        title = link_a.text.strip()\n",
    "        # print(title)\n",
    "\n",
    "        link_a_href = link_a['href']\n",
    "        full_link = 'https://www.ebuyer.com' + link_a_href\n",
    "        # print(full_link)\n",
    "        return title, full_link\n",
    "    \n",
    "    @staticmethod\n",
    "    def _check_available(product_tag: bs4.element.Tag) -> bool:\n",
    "        assert isinstance(product_tag, bs4.element.Tag)\n",
    "\n",
    "        button_basket = product_tag.select_one('div.grid-item__buttons > button.button--mini-basket')\n",
    "\n",
    "        if button_basket is not None:\n",
    "            assert button_basket.text.strip().lower() == 'add to basket'\n",
    "            return True   # check succeded, product is available\n",
    "        else:\n",
    "            return False  # check failed\n",
    "    \n",
    "    @staticmethod\n",
    "    def _check_not_available(product_tag: bs4.element.Tag) -> bool:\n",
    "        assert isinstance(product_tag, bs4.element.Tag)\n",
    "\n",
    "        p_coming_soon = product_tag.select_one('p.grid-item__coming-soon')\n",
    "        # print(p_coming_soon)\n",
    "\n",
    "        if p_coming_soon is not None:\n",
    "            assert p_coming_soon.text.strip().lower() == 'coming soon'\n",
    "            return True   # check succeded, product IS NOT available!\n",
    "        else:\n",
    "            return False  # check failed\n",
    "\n",
    "    @staticmethod\n",
    "    def _check_product(product_tag: bs4.element.Tag) -> List[Dict[str, str]]:\n",
    "        assert isinstance(product_tag, bs4.element.Tag)\n",
    "        \n",
    "        title, link = CheckerEBuyer._check_title_and_link(product_tag)\n",
    "        is_available = CheckerEBuyer._check_available(product_tag)\n",
    "        is_not_available = CheckerEBuyer._check_not_available(product_tag)\n",
    "\n",
    "        assert is_available or is_not_available\n",
    "        assert not (is_available and is_not_available)\n",
    "        \n",
    "        if is_available:\n",
    "            print('AVAILABLE  AVAILABLE  AVAILABLE')\n",
    "\n",
    "        return {\n",
    "            'title': title,\n",
    "            'link': link,\n",
    "            'available': is_available,\n",
    "        }\n",
    "    \n",
    "    @staticmethod\n",
    "    def check_request(content_html: str) -> List[Dict[str, Any]]:\n",
    "        assert isinstance(content_html, str)\n",
    "        \n",
    "        soup = bs4.BeautifulSoup(content_html)\n",
    "        product_list = soup.select('div.grid-item')\n",
    "        \n",
    "        results_list = []\n",
    "        for product_tag in product_list:\n",
    "            item_dict = CheckerEBuyer._check_product(product_tag)\n",
    "            results_list.append(item_dict)\n",
    "        \n",
    "        return results_list"
   ]
  },
  {
   "cell_type": "code",
   "execution_count": 17,
   "id": "bottom-liechtenstein",
   "metadata": {},
   "outputs": [],
   "source": [
    "def process_request(request_dict: Dict[str, Optional[str]]) -> Dict[str, Any]:\n",
    "    assert isinstance(request_dict, dict)\n",
    "    assert request_dict.keys() == {'content', 'datetime', 'model', 'page', 'supplier', 'traceback'}\n",
    "    assert all(isinstance(k, str) for k in request_dict.keys())\n",
    "    assert all(v is None or isinstance(v, str) for v in request_dict.values())\n",
    "\n",
    "    content = request_dict['content']\n",
    "    assert content is not None\n",
    "    \n",
    "    datetime_str = request_dict['datetime']\n",
    "    assert isinstance(datetime_str, str)\n",
    "    assert dt.datetime.fromisoformat(datetime_str)\n",
    "    \n",
    "    model = request_dict['model']\n",
    "    assert model in {'3060ti', '3070'}\n",
    "    \n",
    "    page = request_dict['page']\n",
    "    assert page in {'p1'}\n",
    "    \n",
    "    supplier = request_dict['supplier']\n",
    "    assert supplier in {'ebuyer'}\n",
    "    \n",
    "    traceback = request_dict['traceback']\n",
    "    assert traceback is None\n",
    "    \n",
    "    if supplier == 'ebuyer':\n",
    "        items_list = CheckerEBuyer.check_request(content)\n",
    "    \n",
    "    num_products = len(items_list)\n",
    "    num_available = sum([it['available'] for it in items_list])\n",
    "    assert num_products > 0\n",
    "    \n",
    "    return {\n",
    "        'datetime': datetime_str,\n",
    "        'model': model,\n",
    "        'page': page,\n",
    "        'supplier': supplier,\n",
    "        'num_products': num_products,\n",
    "        'num_available': num_available,\n",
    "        'items_list': items_list\n",
    "    }"
   ]
  },
  {
   "cell_type": "markdown",
   "id": "furnished-living",
   "metadata": {},
   "source": [
    "# Get Content URL"
   ]
  },
  {
   "cell_type": "code",
   "execution_count": 18,
   "id": "dominican-repository",
   "metadata": {},
   "outputs": [],
   "source": [
    "request_dict = {\n",
    "    'content': get_website_as_string('https://www.ebuyer.com/store/Components/cat/Graphics-Cards-Nvidia?page=1'),\n",
    "    'datetime': dt.datetime.utcnow().isoformat(),\n",
    "    'model': '3060ti',\n",
    "    'page': 'p1',\n",
    "    'supplier': 'ebuyer',\n",
    "    'traceback': None\n",
    "}"
   ]
  },
  {
   "cell_type": "code",
   "execution_count": 19,
   "id": "fancy-january",
   "metadata": {},
   "outputs": [
    {
     "name": "stdout",
     "output_type": "stream",
     "text": [
      "AVAILABLE  AVAILABLE  AVAILABLE\n",
      "AVAILABLE  AVAILABLE  AVAILABLE\n",
      "AVAILABLE  AVAILABLE  AVAILABLE\n",
      "AVAILABLE  AVAILABLE  AVAILABLE\n",
      "AVAILABLE  AVAILABLE  AVAILABLE\n"
     ]
    },
    {
     "data": {
      "text/plain": [
       "{'datetime': '2021-02-27T13:57:03.033854',\n",
       " 'model': '3060ti',\n",
       " 'page': 'p1',\n",
       " 'supplier': 'ebuyer',\n",
       " 'num_products': 24,\n",
       " 'num_available': 5,\n",
       " 'items_list': [{'title': 'MSI GeForce RTX 3060 12GB GAMING X TRIO Ampere Graphics Card',\n",
       "   'link': 'https://www.ebuyer.com/1140149-msi-geforce-rtx-3060-12gb-gaming-x-trio-ampere-graphics-card-rtx-3060-gaming-x-trio-12g',\n",
       "   'available': False},\n",
       "  {'title': 'ASUS GeForce RTX 3060 12GB ROG STRIX OC Ampere Graphics Card',\n",
       "   'link': 'https://www.ebuyer.com/1142162-asus-geforce-rtx-3060-12gb-rog-strix-oc-ampere-graphics-card-rog-strix-rtx3060-o12g-gaming',\n",
       "   'available': False},\n",
       "  {'title': 'MSI GeForce RTX 3070 8GB GAMING X TRIO Ampere Graphics Card',\n",
       "   'link': 'https://www.ebuyer.com/1126975-msi-geforce-rtx-3070-8gb-gaming-x-trio-ampere-graphics-card-rtx-3070-gaming-x-trio',\n",
       "   'available': False},\n",
       "  {'title': 'Palit GeForce RTX 3060 12GB Dual OC Ampere Graphics Card',\n",
       "   'link': 'https://www.ebuyer.com/1141626-palit-geforce-rtx-3060-12gb-dual-oc-ampere-graphics-card-ne63060t19k9-190ad',\n",
       "   'available': False},\n",
       "  {'title': 'Gigabyte GeForce RTX 3070 8GB GAMING OC Ampere Graphics Card',\n",
       "   'link': 'https://www.ebuyer.com/1126167-gigabyte-geforce-rtx-3070-8gb-gaming-oc-ampere-graphics-card-gv-n3070gaming-oc-8gd',\n",
       "   'available': False},\n",
       "  {'title': 'Zotac GeForce RTX 3060 12GB TWIN EDGE OC Ampere Graphics Card',\n",
       "   'link': 'https://www.ebuyer.com/1139156-zotac-geforce-rtx-3060-12gb-twin-edge-oc-ampere-graphics-card-zt-a30600h-10m',\n",
       "   'available': False},\n",
       "  {'title': 'PNY GeForce RTX 3090 24GB XLR8 Gaming Triple Fan Ampere Graphics Card',\n",
       "   'link': 'https://www.ebuyer.com/1121302-pny-geforce-rtx-3090-24gb-xlr8-gaming-triple-fan-ampere-graphics-card-vcg309024tfxppb',\n",
       "   'available': False},\n",
       "  {'title': 'MSI GeForce GT 1030 2GB LP OC Graphics Card',\n",
       "   'link': 'https://www.ebuyer.com/791770-msi-geforce-gt-1030-2gb-lp-oc-graphics-card-gt-1030-2g-lp-oc',\n",
       "   'available': False},\n",
       "  {'title': 'MSI GeForce GT 710 2GB DDR3 Low Profile Graphics Card',\n",
       "   'link': 'https://www.ebuyer.com/737925-msi-geforce-gt-710-2gb-ddr3-low-profile-graphics-card-gt-710-2gd3h-lp',\n",
       "   'available': True},\n",
       "  {'title': 'Asus GTX 1050 Ti 4GB Phoenix Graphics Card',\n",
       "   'link': 'https://www.ebuyer.com/762943-asus-gtx-1050-ti-4gb-phoenix-graphics-card-ph-gtx1050ti-4g',\n",
       "   'available': False},\n",
       "  {'title': 'Asus GeForce GT 1030 2GB OC Graphics Card',\n",
       "   'link': 'https://www.ebuyer.com/791766-asus-geforce-gt-1030-2gb-oc-graphics-card-ph-gt1030-o2g',\n",
       "   'available': True},\n",
       "  {'title': 'Gigabyte GeForce RTX 2060 OC V2 6GB Graphics Card',\n",
       "   'link': 'https://www.ebuyer.com/874210-gigabyte-geforce-rtx-2060-oc-v2-6gb-graphics-card-gv-n2060oc-6gd-v2',\n",
       "   'available': False},\n",
       "  {'title': 'Asus GeForce RTX 3060 Ti 8GB GDDR6 TUF GAMING OC Ampere Graphics Card',\n",
       "   'link': 'https://www.ebuyer.com/1136049-asus-geforce-rtx-3060-ti-8gb-gddr6-tuf-gaming-oc-ampere-graphics-tuf-rtx3060ti-o8g-gaming',\n",
       "   'available': False},\n",
       "  {'title': 'MSI GeForce RTX 3070 8GB VENTUS 3X OC Ampere Graphics Card',\n",
       "   'link': 'https://www.ebuyer.com/1126282-msi-geforce-rtx-3070-8gb-ventus-3x-oc-ampere-graphics-card-rtx-3070-ventus-3x-oc',\n",
       "   'available': False},\n",
       "  {'title': 'Zotac GeForce GT 710 2GB DDR3  Low Profile Graphics Card',\n",
       "   'link': 'https://www.ebuyer.com/737900-zotac-geforce-gt-710-2gb-ddr3-low-profile-graphics-card-zt-71302-20l',\n",
       "   'available': False},\n",
       "  {'title': 'Asus GeForce GT 710 1GB GDDR5 Graphics Card',\n",
       "   'link': 'https://www.ebuyer.com/818443-asus-geforce-gt-710-1gb-gddr5-graphics-card-gt710-sl-1gd5-brk',\n",
       "   'available': True},\n",
       "  {'title': 'Gigabyte GeForce RTX 3060 12GB GAMING OC Ampere Graphics Card',\n",
       "   'link': 'https://www.ebuyer.com/1142117-gigabyte-geforce-rtx-3060-12gb-gaming-oc-ampere-graphics-card-gv-n3060gaming-oc-12gd',\n",
       "   'available': False},\n",
       "  {'title': 'MSI GeForce RTX 3080 SUPRIM X 10GB Ampere Graphics Card',\n",
       "   'link': 'https://www.ebuyer.com/1128207-msi-geforce-rtx-3080-suprim-x-10gb-ampere-graphics-card-rtx-3080-suprim-x-10g',\n",
       "   'available': False},\n",
       "  {'title': 'MSI GeForce GT 710 1GB DDR3 Low Profile Graphics Card',\n",
       "   'link': 'https://www.ebuyer.com/737926-msi-geforce-gt-710-1gb-ddr3-low-profile-graphics-card-gt-710-1gd3h-lp',\n",
       "   'available': True},\n",
       "  {'title': 'MSI GeForce GT 730 2GB DDR3 VGA Dual-Link DVI-D HDMI PCI-E Graphics Card',\n",
       "   'link': 'https://www.ebuyer.com/738918-msi-geforce-gt-730-2gb-ddr3-vga-dual-link-dvi-d-hdmi-pci-e-graphics-n730k-2gd3h-lp',\n",
       "   'available': True},\n",
       "  {'title': 'Zotac GeForce GTX 1660 6GB Graphics Card',\n",
       "   'link': 'https://www.ebuyer.com/920484-zotac-geforce-gtx-1660-6gb-graphics-card-zt-t16600k-10m',\n",
       "   'available': False},\n",
       "  {'title': 'PNY GeForce RTX 3070 8GB Dual Fan Ampere Graphics Card',\n",
       "   'link': 'https://www.ebuyer.com/1125853-pny-geforce-rtx-3070-8gb-dual-fan-ampere-graphics-card-vcg30708dfmpb',\n",
       "   'available': False},\n",
       "  {'title': 'Gigabyte GeForce RTX 3090 24GB GDDR6X VISION OC Ampere Graphics Card',\n",
       "   'link': 'https://www.ebuyer.com/1128656-gigabyte-geforce-rtx-3090-24gb-gddr6x-vision-oc-ampere-graphics-card-gv-n3090vision-oc-24gd',\n",
       "   'available': False},\n",
       "  {'title': 'Palit GeForce RTX 3070 8GB GamingPro Ampere Graphics Card',\n",
       "   'link': 'https://www.ebuyer.com/1126107-palit-geforce-rtx-3070-8gb-gamingpro-ampere-graphics-card-ne63070019p2-1041a',\n",
       "   'available': False}]}"
      ]
     },
     "execution_count": 19,
     "metadata": {},
     "output_type": "execute_result"
    }
   ],
   "source": [
    "process_request(request_dict)"
   ]
  },
  {
   "cell_type": "markdown",
   "id": "finished-humor",
   "metadata": {},
   "source": [
    "# Get Content GZIP"
   ]
  },
  {
   "cell_type": "code",
   "execution_count": 20,
   "id": "instructional-tunisia",
   "metadata": {},
   "outputs": [],
   "source": [
    "filepath = '/mnt/data/raw/ebuyer/3060ti/p1/2021-02-23_10-48-01.pkl.gzip'"
   ]
  },
  {
   "cell_type": "code",
   "execution_count": 21,
   "id": "cutting-fusion",
   "metadata": {},
   "outputs": [],
   "source": [
    "def process_requests_from_gzip(filepath):\n",
    "    \n",
    "    supplier = filepath.split('/')[-4]\n",
    "    assert supplier in {'ebuyer'}\n",
    "\n",
    "    model = filepath.split('/')[-3]\n",
    "    assert model in {'3060ti', '3070'}\n",
    "\n",
    "    page = filepath.split('/')[-2]\n",
    "\n",
    "    requests_collection = get_object_pickled_gzip(filepath)\n",
    "\n",
    "    results_collection = []\n",
    "    for i, request_dict in enumerate(requests_collection):\n",
    "        request_dict['model'] = model\n",
    "        request_dict['page'] = page\n",
    "        request_dict['supplier'] = supplier\n",
    "        request_dict['datetime'] = request_dict['datetime']()\n",
    "\n",
    "        result_dict = process_request(request_dict)\n",
    "\n",
    "        if result_dict['num_available'] > 0:\n",
    "            print(f'{filepath}   {i:3d}   {result_dict[\"num_products\"]}   {result_dict[\"num_available\"]}')\n",
    "\n",
    "        results_collection.append(result_dict)\n",
    "\n",
    "    return results_collection"
   ]
  },
  {
   "cell_type": "code",
   "execution_count": 22,
   "id": "forty-ceremony",
   "metadata": {},
   "outputs": [],
   "source": [
    "def _process_one(filepath):\n",
    "    try:\n",
    "        assert '/raw/' in filepath\n",
    "        target_filepath = filepath.replace('/raw/', '/processed/')\n",
    "        target_filepath = target_filepath.replace('.gzip', '.json')\n",
    "        if not os.path.exists(target_filepath):\n",
    "            results_collection = process_requests_from_gzip(filepath)\n",
    "            os.makedirs(os.path.split(target_filepath)[0], exist_ok=True)\n",
    "            json.dump(results_collection, open(target_filepath, 'w'))\n",
    "    except:\n",
    "        print(f'ERROR: {filepath}')\n",
    "        print(traceback.format_exc())"
   ]
  },
  {
   "cell_type": "code",
   "execution_count": 23,
   "id": "artificial-benchmark",
   "metadata": {},
   "outputs": [],
   "source": [
    "_process_one(filepath)"
   ]
  },
  {
   "cell_type": "code",
   "execution_count": 24,
   "id": "regional-symposium",
   "metadata": {},
   "outputs": [],
   "source": [
    "filepaths = sorted(glob.glob('/mnt/data/raw/ebuyer/3070/**/*.gzip', recursive=True))"
   ]
  },
  {
   "cell_type": "code",
   "execution_count": 25,
   "id": "spare-recommendation",
   "metadata": {},
   "outputs": [],
   "source": [
    "# for fp in tqdm(filepaths):\n",
    "#     _process_one(fp)"
   ]
  },
  {
   "cell_type": "code",
   "execution_count": 26,
   "id": "studied-colorado",
   "metadata": {},
   "outputs": [
    {
     "data": {
      "application/vnd.jupyter.widget-view+json": {
       "model_id": "42fae9b2be584000baaa24c442474e61",
       "version_major": 2,
       "version_minor": 0
      },
      "text/plain": [
       "  0%|          | 0/5460 [00:00<?, ?it/s]"
      ]
     },
     "metadata": {},
     "output_type": "display_data"
    },
    {
     "name": "stdout",
     "output_type": "stream",
     "text": [
      "ERROR: /mnt/data/raw/ebuyer/3070/p1/2021-02-25_17-01-01.pkl.gzip\n",
      "Traceback (most recent call last):\n",
      "  File \"<ipython-input-22-90b9d724ede4>\", line 7, in _process_one\n",
      "    results_collection = process_requests_from_gzip(filepath)\n",
      "  File \"<ipython-input-21-681198b549b4>\", line 20, in process_requests_from_gzip\n",
      "    result_dict = process_request(request_dict)\n",
      "  File \"<ipython-input-17-6d87782dd4e7>\", line 31, in process_request\n",
      "    assert num_products > 0\n",
      "AssertionError\n",
      "\n",
      "ERROR: /mnt/data/raw/ebuyer/3070/p1/2021-02-25_17-04-00.pkl.gzip\n",
      "Traceback (most recent call last):\n",
      "  File \"<ipython-input-22-90b9d724ede4>\", line 7, in _process_one\n",
      "    results_collection = process_requests_from_gzip(filepath)\n",
      "  File \"<ipython-input-21-681198b549b4>\", line 20, in process_requests_from_gzip\n",
      "    result_dict = process_request(request_dict)\n",
      "  File \"<ipython-input-17-6d87782dd4e7>\", line 31, in process_request\n",
      "    assert num_products > 0\n",
      "AssertionError\n",
      "\n",
      "ERROR: /mnt/data/raw/ebuyer/3070/p1/2021-02-25_17-06-00.pkl.gzip\n",
      "Traceback (most recent call last):\n",
      "  File \"<ipython-input-22-90b9d724ede4>\", line 7, in _process_one\n",
      "    results_collection = process_requests_from_gzip(filepath)\n",
      "  File \"<ipython-input-21-681198b549b4>\", line 20, in process_requests_from_gzip\n",
      "    result_dict = process_request(request_dict)\n",
      "  File \"<ipython-input-17-6d87782dd4e7>\", line 31, in process_request\n",
      "    assert num_products > 0\n",
      "AssertionError\n",
      "\n",
      "ERROR: /mnt/data/raw/ebuyer/3070/p1/2021-02-25_17-09-01.pkl.gzip\n",
      "Traceback (most recent call last):\n",
      "  File \"<ipython-input-22-90b9d724ede4>\", line 7, in _process_one\n",
      "    results_collection = process_requests_from_gzip(filepath)\n",
      "  File \"<ipython-input-21-681198b549b4>\", line 20, in process_requests_from_gzip\n",
      "    result_dict = process_request(request_dict)\n",
      "  File \"<ipython-input-17-6d87782dd4e7>\", line 31, in process_request\n",
      "    assert num_products > 0\n",
      "AssertionError\n",
      "\n"
     ]
    }
   ],
   "source": [
    "with concurrent.futures.ProcessPoolExecutor(max_workers=10) as executor:\n",
    "        results = list(tqdm(executor.map(_process_one, filepaths), total=len(filepaths)))"
   ]
  },
  {
   "cell_type": "code",
   "execution_count": null,
   "id": "historical-visiting",
   "metadata": {},
   "outputs": [],
   "source": []
  },
  {
   "cell_type": "code",
   "execution_count": null,
   "id": "developing-boost",
   "metadata": {},
   "outputs": [],
   "source": []
  }
 ],
 "metadata": {
  "kernelspec": {
   "display_name": "Python 3",
   "language": "python",
   "name": "python3"
  },
  "language_info": {
   "codemirror_mode": {
    "name": "ipython",
    "version": 3
   },
   "file_extension": ".py",
   "mimetype": "text/x-python",
   "name": "python",
   "nbconvert_exporter": "python",
   "pygments_lexer": "ipython3",
   "version": "3.9.0"
  }
 },
 "nbformat": 4,
 "nbformat_minor": 5
}
