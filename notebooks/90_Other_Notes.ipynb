{
 "cells": [
  {
   "cell_type": "markdown",
   "id": "endangered-respect",
   "metadata": {},
   "source": [
    "# Introduction"
   ]
  },
  {
   "cell_type": "markdown",
   "id": "featured-survey",
   "metadata": {},
   "source": [
    "Random links etc just in case we want to get back to it at some point"
   ]
  },
  {
   "cell_type": "markdown",
   "id": "removed-gibson",
   "metadata": {},
   "source": [
    "# Other Historical Data Sources"
   ]
  },
  {
   "cell_type": "markdown",
   "id": "competitive-australian",
   "metadata": {},
   "source": [
    "Eth difficulty\n",
    "* https://etherscan.io/chart/difficulty\n",
    "* https://www.coinwarz.com/mining/ethereum/difficulty-chart\n",
    "\n",
    "Eth block time\n",
    "* https://ycharts.com/indicators/ethereum_average_block_time\n",
    "* https://etherscan.io/chart/blocks - blocks per day, divide by (3600*24)"
   ]
  },
  {
   "cell_type": "code",
   "execution_count": null,
   "id": "corrected-acting",
   "metadata": {},
   "outputs": [],
   "source": []
  }
 ],
 "metadata": {
  "kernelspec": {
   "display_name": "Python 3",
   "language": "python",
   "name": "python3"
  },
  "language_info": {
   "codemirror_mode": {
    "name": "ipython",
    "version": 3
   },
   "file_extension": ".py",
   "mimetype": "text/x-python",
   "name": "python",
   "nbconvert_exporter": "python",
   "pygments_lexer": "ipython3",
   "version": "3.9.0"
  }
 },
 "nbformat": 4,
 "nbformat_minor": 5
}
