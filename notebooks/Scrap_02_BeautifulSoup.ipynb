{
 "cells": [
  {
   "cell_type": "code",
   "execution_count": 5,
   "id": "contemporary-community",
   "metadata": {},
   "outputs": [],
   "source": [
    "import urllib\n",
    "from bs4 import BeautifulSoup\n",
    "import csv"
   ]
  },
  {
   "cell_type": "code",
   "execution_count": null,
   "id": "british-eight",
   "metadata": {},
   "outputs": [],
   "source": []
  },
  {
   "cell_type": "code",
   "execution_count": 6,
   "id": "spread-explanation",
   "metadata": {},
   "outputs": [],
   "source": [
    "def get_website_as_string(url: str) -> str:\n",
    "    \n",
    "    # Header is required so we don't get 403 error\n",
    "    hdr = {'User-Agent': 'Mozilla/5.0 (X11; Linux x86_64) AppleWebKit/537.11 (KHTML, like Gecko) Chrome/23.0.1271.64 Safari/537.11',\n",
    "       'Accept': 'text/html,application/xhtml+xml,application/xml;q=0.9,*/*;q=0.8',\n",
    "       'Accept-Charset': 'ISO-8859-1,utf-8;q=0.7,*;q=0.3',\n",
    "       'Accept-Encoding': 'none',\n",
    "       'Accept-Language': 'en-US,en;q=0.8',\n",
    "       'Connection': 'keep-alive'}\n",
    "    req = urllib.request.Request(url, headers=hdr)\n",
    "    response = urllib.request.urlopen(req)\n",
    "    content_raw = response.read()\n",
    "    content = content_raw.decode()\n",
    "    \n",
    "    return content   # HTML with embedded script source code"
   ]
  },
  {
   "cell_type": "code",
   "execution_count": 200,
   "id": "rubber-legislation",
   "metadata": {},
   "outputs": [],
   "source": [
    "content = get_website_as_string('https://www.scan.co.uk/shop/gaming/gpu-nvidia/geforce-rtx-3060-ti-graphics-cards')"
   ]
  },
  {
   "cell_type": "code",
   "execution_count": 183,
   "id": "southwest-shark",
   "metadata": {},
   "outputs": [],
   "source": [
    "content = get_website_as_string('https://www.scan.co.uk/shop/gaming/cpu-intel/intel-core-i3-socket-1200-comet-lake-processors')"
   ]
  },
  {
   "cell_type": "code",
   "execution_count": 201,
   "id": "funky-geometry",
   "metadata": {},
   "outputs": [
    {
     "data": {
      "text/plain": [
       "92823"
      ]
     },
     "execution_count": 201,
     "metadata": {},
     "output_type": "execute_result"
    }
   ],
   "source": [
    "len(content)"
   ]
  },
  {
   "cell_type": "code",
   "execution_count": 210,
   "id": "dated-governor",
   "metadata": {},
   "outputs": [],
   "source": [
    "import io\n",
    "import gzip"
   ]
  },
  {
   "cell_type": "code",
   "execution_count": 211,
   "id": "moderate-mozambique",
   "metadata": {},
   "outputs": [],
   "source": [
    "out = io.BytesIO()"
   ]
  },
  {
   "cell_type": "code",
   "execution_count": 214,
   "id": "sealed-tragedy",
   "metadata": {},
   "outputs": [],
   "source": [
    "with gzip.GzipFile(fileobj=out, mode='w') as f:\n",
    "    f.write(content.encode())"
   ]
  },
  {
   "cell_type": "code",
   "execution_count": 217,
   "id": "suspected-optimization",
   "metadata": {},
   "outputs": [],
   "source": [
    "bb = out.getvalue()"
   ]
  },
  {
   "cell_type": "code",
   "execution_count": 219,
   "id": "varying-queensland",
   "metadata": {},
   "outputs": [
    {
     "data": {
      "text/plain": [
       "13873"
      ]
     },
     "execution_count": 219,
     "metadata": {},
     "output_type": "execute_result"
    }
   ],
   "source": [
    "len(bb)"
   ]
  },
  {
   "cell_type": "code",
   "execution_count": null,
   "id": "serious-township",
   "metadata": {},
   "outputs": [],
   "source": []
  },
  {
   "cell_type": "code",
   "execution_count": 184,
   "id": "existing-spouse",
   "metadata": {},
   "outputs": [],
   "source": [
    "soup = BeautifulSoup(content)"
   ]
  },
  {
   "cell_type": "code",
   "execution_count": 185,
   "id": "exclusive-brisbane",
   "metadata": {},
   "outputs": [
    {
     "data": {
      "text/plain": [
       "4"
      ]
     },
     "execution_count": 185,
     "metadata": {},
     "output_type": "execute_result"
    }
   ],
   "source": [
    "products = soup.select('div.productList > ul.productColumns > li.product')\n",
    "len(products)"
   ]
  },
  {
   "cell_type": "code",
   "execution_count": 192,
   "id": "fuzzy-mongolia",
   "metadata": {},
   "outputs": [],
   "source": [
    "prod_li = products[3]"
   ]
  },
  {
   "cell_type": "code",
   "execution_count": 193,
   "id": "boolean-light",
   "metadata": {},
   "outputs": [],
   "source": [
    "link_a = prod_li.select_one('span.description > a')"
   ]
  },
  {
   "cell_type": "code",
   "execution_count": 194,
   "id": "active-frequency",
   "metadata": {},
   "outputs": [
    {
     "data": {
      "text/plain": [
       "'/products/intel-core-i3-10100f-cpu-boxed'"
      ]
     },
     "execution_count": 194,
     "metadata": {},
     "output_type": "execute_result"
    }
   ],
   "source": [
    "link_a_href = link_a['href']\n",
    "link_a_href"
   ]
  },
  {
   "cell_type": "code",
   "execution_count": 195,
   "id": "interpreted-month",
   "metadata": {},
   "outputs": [
    {
     "data": {
      "text/plain": [
       "'Intel Core i3 10100F, S 1200, Comet Lake, 4 Cores, 8 Threads, 3.6GHz, 4.3GHz Turbo, 6MB Cache, 65W, Retail'"
      ]
     },
     "execution_count": 195,
     "metadata": {},
     "output_type": "execute_result"
    }
   ],
   "source": [
    "link_a_text = link_a.text.strip()\n",
    "link_a_text"
   ]
  },
  {
   "cell_type": "code",
   "execution_count": 196,
   "id": "regulation-chest",
   "metadata": {},
   "outputs": [],
   "source": [
    "buy_noprice_div = prod_li.select_one('div.rightColumn > div.buyButtonNoPrice')\n",
    "buy_noprice_div"
   ]
  },
  {
   "cell_type": "code",
   "execution_count": 197,
   "id": "skilled-trance",
   "metadata": {},
   "outputs": [
    {
     "data": {
      "text/plain": [
       "<a class=\"btn\" href=\"https://secure.scan.co.uk/web/basket/addproduct/3236369\" rel=\"nofollow\">Pre Order</a>"
      ]
     },
     "execution_count": 197,
     "metadata": {},
     "output_type": "execute_result"
    }
   ],
   "source": [
    "buy_a = prod_li.select_one('div.rightColumn > div.buyButton > a.btn')\n",
    "buy_a"
   ]
  },
  {
   "cell_type": "code",
   "execution_count": null,
   "id": "prerequisite-toilet",
   "metadata": {},
   "outputs": [],
   "source": []
  },
  {
   "cell_type": "markdown",
   "id": "twelve-extent",
   "metadata": {},
   "source": [
    "outcomes:\n",
    "* exception -> content (or None), traceback\n",
    "* parse failure -> content\n",
    "* parse success:\n",
    "  - list of: text, stock_status (no_stock, preorder, in_stock), stock number"
   ]
  },
  {
   "cell_type": "code",
   "execution_count": null,
   "id": "correct-validation",
   "metadata": {},
   "outputs": [],
   "source": []
  }
 ],
 "metadata": {
  "kernelspec": {
   "display_name": "Python 3",
   "language": "python",
   "name": "python3"
  },
  "language_info": {
   "codemirror_mode": {
    "name": "ipython",
    "version": 3
   },
   "file_extension": ".py",
   "mimetype": "text/x-python",
   "name": "python",
   "nbconvert_exporter": "python",
   "pygments_lexer": "ipython3",
   "version": "3.9.0"
  }
 },
 "nbformat": 4,
 "nbformat_minor": 5
}
