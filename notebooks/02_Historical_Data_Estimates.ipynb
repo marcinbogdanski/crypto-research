{
 "cells": [
  {
   "cell_type": "markdown",
   "id": "collect-blocking",
   "metadata": {},
   "source": [
    "# Introduction"
   ]
  },
  {
   "cell_type": "markdown",
   "id": "lasting-transition",
   "metadata": {},
   "source": [
    "Simple downloader for historical data\n",
    "\n",
    "We are going to use https://bitinfocharts.com for now"
   ]
  },
  {
   "cell_type": "code",
   "execution_count": 37,
   "id": "rotary-stuart",
   "metadata": {},
   "outputs": [],
   "source": [
    "import re\n",
    "import datetime as dt\n",
    "import urllib.request\n",
    "from typing import List\n",
    "\n",
    "import pandas as pd\n",
    "import matplotlib.pyplot as plt"
   ]
  },
  {
   "cell_type": "code",
   "execution_count": null,
   "id": "serious-railway",
   "metadata": {},
   "outputs": [],
   "source": []
  },
  {
   "cell_type": "code",
   "execution_count": 2,
   "id": "laughing-brave",
   "metadata": {},
   "outputs": [],
   "source": [
    "def get_website_as_string(url):\n",
    "    hdr = {'User-Agent': 'Mozilla/5.0 (X11; Linux x86_64) AppleWebKit/537.11 (KHTML, like Gecko) Chrome/23.0.1271.64 Safari/537.11',\n",
    "       'Accept': 'text/html,application/xhtml+xml,application/xml;q=0.9,*/*;q=0.8',\n",
    "       'Accept-Charset': 'ISO-8859-1,utf-8;q=0.7,*;q=0.3',\n",
    "       'Accept-Encoding': 'none',\n",
    "       'Accept-Language': 'en-US,en;q=0.8',\n",
    "       'Connection': 'keep-alive'}\n",
    "    req = urllib.request.Request(url, headers=hdr)\n",
    "    response = urllib.request.urlopen(req)\n",
    "    content_raw = response.read()\n",
    "    content = content_raw.decode()\n",
    "    \n",
    "    return content   # HTML with embedded script source code"
   ]
  },
  {
   "cell_type": "code",
   "execution_count": null,
   "id": "complimentary-postcard",
   "metadata": {},
   "outputs": [],
   "source": []
  },
  {
   "cell_type": "code",
   "execution_count": 19,
   "id": "impossible-kentucky",
   "metadata": {},
   "outputs": [],
   "source": [
    "url = 'https://bitinfocharts.com/comparison/ethereum-mining_profitability.html'"
   ]
  },
  {
   "cell_type": "code",
   "execution_count": 20,
   "id": "collected-wrong",
   "metadata": {},
   "outputs": [],
   "source": [
    "content = get_website_as_string(url)"
   ]
  },
  {
   "cell_type": "code",
   "execution_count": 55,
   "id": "technological-reviewer",
   "metadata": {},
   "outputs": [
    {
     "data": {
      "text/html": [
       "<div>\n",
       "<style scoped>\n",
       "    .dataframe tbody tr th:only-of-type {\n",
       "        vertical-align: middle;\n",
       "    }\n",
       "\n",
       "    .dataframe tbody tr th {\n",
       "        vertical-align: top;\n",
       "    }\n",
       "\n",
       "    .dataframe thead th {\n",
       "        text-align: right;\n",
       "    }\n",
       "</style>\n",
       "<table border=\"1\" class=\"dataframe\">\n",
       "  <thead>\n",
       "    <tr style=\"text-align: right;\">\n",
       "      <th></th>\n",
       "      <th>profitability</th>\n",
       "      <th>price</th>\n",
       "      <th>income</th>\n",
       "    </tr>\n",
       "  </thead>\n",
       "  <tbody>\n",
       "    <tr>\n",
       "      <th>2019-01-01</th>\n",
       "      <td>0.0148</td>\n",
       "      <td>136.343</td>\n",
       "      <td>2.017876</td>\n",
       "    </tr>\n",
       "    <tr>\n",
       "      <th>2019-01-02</th>\n",
       "      <td>0.0161</td>\n",
       "      <td>149.513</td>\n",
       "      <td>2.407159</td>\n",
       "    </tr>\n",
       "    <tr>\n",
       "      <th>2019-01-03</th>\n",
       "      <td>0.0153</td>\n",
       "      <td>152.232</td>\n",
       "      <td>2.329150</td>\n",
       "    </tr>\n",
       "    <tr>\n",
       "      <th>2019-01-04</th>\n",
       "      <td>0.0154</td>\n",
       "      <td>152.948</td>\n",
       "      <td>2.355399</td>\n",
       "    </tr>\n",
       "    <tr>\n",
       "      <th>2019-01-05</th>\n",
       "      <td>0.0159</td>\n",
       "      <td>159.119</td>\n",
       "      <td>2.529992</td>\n",
       "    </tr>\n",
       "    <tr>\n",
       "      <th>...</th>\n",
       "      <td>...</td>\n",
       "      <td>...</td>\n",
       "      <td>...</td>\n",
       "    </tr>\n",
       "    <tr>\n",
       "      <th>2020-12-27</th>\n",
       "      <td>0.0486</td>\n",
       "      <td>662.017</td>\n",
       "      <td>32.174026</td>\n",
       "    </tr>\n",
       "    <tr>\n",
       "      <th>2020-12-28</th>\n",
       "      <td>0.0543</td>\n",
       "      <td>724.664</td>\n",
       "      <td>39.349255</td>\n",
       "    </tr>\n",
       "    <tr>\n",
       "      <th>2020-12-29</th>\n",
       "      <td>0.0509</td>\n",
       "      <td>719.423</td>\n",
       "      <td>36.618631</td>\n",
       "    </tr>\n",
       "    <tr>\n",
       "      <th>2020-12-30</th>\n",
       "      <td>0.0573</td>\n",
       "      <td>735.948</td>\n",
       "      <td>42.169820</td>\n",
       "    </tr>\n",
       "    <tr>\n",
       "      <th>2020-12-31</th>\n",
       "      <td>0.0536</td>\n",
       "      <td>741.144</td>\n",
       "      <td>39.725318</td>\n",
       "    </tr>\n",
       "  </tbody>\n",
       "</table>\n",
       "<p>731 rows × 3 columns</p>\n",
       "</div>"
      ],
      "text/plain": [
       "            profitability    price     income\n",
       "2019-01-01         0.0148  136.343   2.017876\n",
       "2019-01-02         0.0161  149.513   2.407159\n",
       "2019-01-03         0.0153  152.232   2.329150\n",
       "2019-01-04         0.0154  152.948   2.355399\n",
       "2019-01-05         0.0159  159.119   2.529992\n",
       "...                   ...      ...        ...\n",
       "2020-12-27         0.0486  662.017  32.174026\n",
       "2020-12-28         0.0543  724.664  39.349255\n",
       "2020-12-29         0.0509  719.423  36.618631\n",
       "2020-12-30         0.0573  735.948  42.169820\n",
       "2020-12-31         0.0536  741.144  39.725318\n",
       "\n",
       "[731 rows x 3 columns]"
      ]
     },
     "execution_count": 55,
     "metadata": {},
     "output_type": "execute_result"
    }
   ],
   "source": [
    "df"
   ]
  },
  {
   "cell_type": "code",
   "execution_count": null,
   "id": "formal-camel",
   "metadata": {},
   "outputs": [],
   "source": []
  },
  {
   "cell_type": "code",
   "execution_count": null,
   "id": "passive-fairy",
   "metadata": {},
   "outputs": [],
   "source": []
  },
  {
   "cell_type": "code",
   "execution_count": null,
   "id": "artificial-union",
   "metadata": {},
   "outputs": [],
   "source": []
  },
  {
   "cell_type": "code",
   "execution_count": 21,
   "id": "frequent-pharmacy",
   "metadata": {},
   "outputs": [],
   "source": [
    "def _parse_datapoint(datapoint_str, p_date, p_float):\n",
    "    \"\"\"Parse datapoint string in format '[new Date(\"2015/07/30\"),9.355]' \"\"\"\n",
    "    \n",
    "    date_part, float_part = datapoint_str.strip('[]').split(',')\n",
    "    \n",
    "    date_matches = p_date.findall(date_part)\n",
    "    assert len(date_matches) == 1\n",
    "    date_str = date_matches[0]\n",
    "    date_dt = dt.datetime.strptime(date_str, '%Y/%m/%d')\n",
    "    \n",
    "#     float_matches = p_float.findall(datapoint_str)\n",
    "#     print(float_matches)\n",
    "#     assert len(float_matches) == 1\n",
    "#     float_str = float_matches[0]\n",
    "    float_f = float(float_part)\n",
    "    \n",
    "    return date_dt, float_f"
   ]
  },
  {
   "cell_type": "code",
   "execution_count": 22,
   "id": "human-fossil",
   "metadata": {},
   "outputs": [],
   "source": [
    "def extract_data_from_website(content: str, column_name: str):\n",
    "    p_datapoint = re.compile('\\[new Date\\(\"\\d+\\/\\d+\\/\\d+\"\\),\\d+(?:\\.\\d+)?\\]')\n",
    "    p_date = re.compile('\\d+\\/\\d+\\/\\d+')\n",
    "    p_float = re.compile('\\d+(?:\\.\\d+)?')\n",
    "    \n",
    "    list_of_matches: List[str] = p_datapoint.findall(content)\n",
    "        \n",
    "    dates_list = []\n",
    "    values_list = []\n",
    "    for datapoint_str in list_of_matches:\n",
    "        date, value = _parse_datapoint(datapoint_str, p_date, p_float)\n",
    "        dates_list.append(date)\n",
    "        values_list.append(value)\n",
    "    \n",
    "    return pd.Series(data=values_list, index=dates_list, name=column_name)"
   ]
  },
  {
   "cell_type": "code",
   "execution_count": 23,
   "id": "responsible-theta",
   "metadata": {},
   "outputs": [],
   "source": [
    "series_mining_profitability = extract_data_from_website(content, column_name='profitability')"
   ]
  },
  {
   "cell_type": "code",
   "execution_count": null,
   "id": "removed-lancaster",
   "metadata": {},
   "outputs": [],
   "source": []
  },
  {
   "cell_type": "code",
   "execution_count": 24,
   "id": "dense-spain",
   "metadata": {},
   "outputs": [],
   "source": [
    "url = 'https://bitinfocharts.com/comparison/ethereum-price.html'"
   ]
  },
  {
   "cell_type": "code",
   "execution_count": 25,
   "id": "angry-mixer",
   "metadata": {},
   "outputs": [],
   "source": [
    "content = get_website_as_string(url)"
   ]
  },
  {
   "cell_type": "code",
   "execution_count": 26,
   "id": "electronic-helena",
   "metadata": {},
   "outputs": [],
   "source": [
    "series_price = extract_data_from_website(content, column_name='price')"
   ]
  },
  {
   "cell_type": "code",
   "execution_count": null,
   "id": "clean-feelings",
   "metadata": {},
   "outputs": [],
   "source": []
  },
  {
   "cell_type": "code",
   "execution_count": null,
   "id": "turned-tunnel",
   "metadata": {},
   "outputs": [],
   "source": []
  },
  {
   "cell_type": "code",
   "execution_count": 46,
   "id": "smooth-intersection",
   "metadata": {},
   "outputs": [],
   "source": [
    "df = pd.concat([series_mining_profitability, series_price], axis=1)"
   ]
  },
  {
   "cell_type": "code",
   "execution_count": 47,
   "id": "vulnerable-pavilion",
   "metadata": {},
   "outputs": [],
   "source": [
    "df.dropna(inplace=True)"
   ]
  },
  {
   "cell_type": "code",
   "execution_count": 48,
   "id": "danish-communication",
   "metadata": {},
   "outputs": [],
   "source": [
    "df['income'] = df.profitability * df.price"
   ]
  },
  {
   "cell_type": "code",
   "execution_count": 49,
   "id": "dangerous-reverse",
   "metadata": {},
   "outputs": [],
   "source": [
    "df = df[df.index >= dt.datetime(2019, 1, 1)]"
   ]
  },
  {
   "cell_type": "code",
   "execution_count": 50,
   "id": "choice-glass",
   "metadata": {},
   "outputs": [],
   "source": [
    "df = df[df.index <= dt.datetime(2020, 12, 31)]"
   ]
  },
  {
   "cell_type": "code",
   "execution_count": 51,
   "id": "engaged-daughter",
   "metadata": {},
   "outputs": [
    {
     "data": {
      "text/html": [
       "<div>\n",
       "<style scoped>\n",
       "    .dataframe tbody tr th:only-of-type {\n",
       "        vertical-align: middle;\n",
       "    }\n",
       "\n",
       "    .dataframe tbody tr th {\n",
       "        vertical-align: top;\n",
       "    }\n",
       "\n",
       "    .dataframe thead th {\n",
       "        text-align: right;\n",
       "    }\n",
       "</style>\n",
       "<table border=\"1\" class=\"dataframe\">\n",
       "  <thead>\n",
       "    <tr style=\"text-align: right;\">\n",
       "      <th></th>\n",
       "      <th>profitability</th>\n",
       "      <th>price</th>\n",
       "      <th>income</th>\n",
       "    </tr>\n",
       "  </thead>\n",
       "  <tbody>\n",
       "    <tr>\n",
       "      <th>2019-01-01</th>\n",
       "      <td>0.0148</td>\n",
       "      <td>136.343</td>\n",
       "      <td>2.017876</td>\n",
       "    </tr>\n",
       "    <tr>\n",
       "      <th>2019-01-02</th>\n",
       "      <td>0.0161</td>\n",
       "      <td>149.513</td>\n",
       "      <td>2.407159</td>\n",
       "    </tr>\n",
       "    <tr>\n",
       "      <th>2019-01-03</th>\n",
       "      <td>0.0153</td>\n",
       "      <td>152.232</td>\n",
       "      <td>2.329150</td>\n",
       "    </tr>\n",
       "    <tr>\n",
       "      <th>2019-01-04</th>\n",
       "      <td>0.0154</td>\n",
       "      <td>152.948</td>\n",
       "      <td>2.355399</td>\n",
       "    </tr>\n",
       "    <tr>\n",
       "      <th>2019-01-05</th>\n",
       "      <td>0.0159</td>\n",
       "      <td>159.119</td>\n",
       "      <td>2.529992</td>\n",
       "    </tr>\n",
       "    <tr>\n",
       "      <th>...</th>\n",
       "      <td>...</td>\n",
       "      <td>...</td>\n",
       "      <td>...</td>\n",
       "    </tr>\n",
       "    <tr>\n",
       "      <th>2020-12-27</th>\n",
       "      <td>0.0486</td>\n",
       "      <td>662.017</td>\n",
       "      <td>32.174026</td>\n",
       "    </tr>\n",
       "    <tr>\n",
       "      <th>2020-12-28</th>\n",
       "      <td>0.0543</td>\n",
       "      <td>724.664</td>\n",
       "      <td>39.349255</td>\n",
       "    </tr>\n",
       "    <tr>\n",
       "      <th>2020-12-29</th>\n",
       "      <td>0.0509</td>\n",
       "      <td>719.423</td>\n",
       "      <td>36.618631</td>\n",
       "    </tr>\n",
       "    <tr>\n",
       "      <th>2020-12-30</th>\n",
       "      <td>0.0573</td>\n",
       "      <td>735.948</td>\n",
       "      <td>42.169820</td>\n",
       "    </tr>\n",
       "    <tr>\n",
       "      <th>2020-12-31</th>\n",
       "      <td>0.0536</td>\n",
       "      <td>741.144</td>\n",
       "      <td>39.725318</td>\n",
       "    </tr>\n",
       "  </tbody>\n",
       "</table>\n",
       "<p>731 rows × 3 columns</p>\n",
       "</div>"
      ],
      "text/plain": [
       "            profitability    price     income\n",
       "2019-01-01         0.0148  136.343   2.017876\n",
       "2019-01-02         0.0161  149.513   2.407159\n",
       "2019-01-03         0.0153  152.232   2.329150\n",
       "2019-01-04         0.0154  152.948   2.355399\n",
       "2019-01-05         0.0159  159.119   2.529992\n",
       "...                   ...      ...        ...\n",
       "2020-12-27         0.0486  662.017  32.174026\n",
       "2020-12-28         0.0543  724.664  39.349255\n",
       "2020-12-29         0.0509  719.423  36.618631\n",
       "2020-12-30         0.0573  735.948  42.169820\n",
       "2020-12-31         0.0536  741.144  39.725318\n",
       "\n",
       "[731 rows x 3 columns]"
      ]
     },
     "execution_count": 51,
     "metadata": {},
     "output_type": "execute_result"
    }
   ],
   "source": [
    "df"
   ]
  },
  {
   "cell_type": "code",
   "execution_count": 57,
   "id": "sensitive-picking",
   "metadata": {},
   "outputs": [
    {
     "data": {
      "image/png": "[encoded data removed]",
      "text/plain": [
       "<Figure size 1152x576 with 1 Axes>"
      ]
     },
     "metadata": {
      "needs_background": "light"
     },
     "output_type": "display_data"
    }
   ],
   "source": [
    "_, ax = plt.subplots(figsize=(16,8))\n",
    "ax.plot(df.index, df.profitability*)\n",
    "plt.show()"
   ]
  },
  {
   "cell_type": "code",
   "execution_count": 61,
   "id": "seeing-relative",
   "metadata": {},
   "outputs": [],
   "source": [
    "df['profitability_20'] = df.profitability * 20 * 2"
   ]
  },
  {
   "cell_type": "code",
   "execution_count": 62,
   "id": "environmental-trash",
   "metadata": {},
   "outputs": [
    {
     "data": {
      "text/html": [
       "<div>\n",
       "<style scoped>\n",
       "    .dataframe tbody tr th:only-of-type {\n",
       "        vertical-align: middle;\n",
       "    }\n",
       "\n",
       "    .dataframe tbody tr th {\n",
       "        vertical-align: top;\n",
       "    }\n",
       "\n",
       "    .dataframe thead th {\n",
       "        text-align: right;\n",
       "    }\n",
       "</style>\n",
       "<table border=\"1\" class=\"dataframe\">\n",
       "  <thead>\n",
       "    <tr style=\"text-align: right;\">\n",
       "      <th></th>\n",
       "      <th>profitability</th>\n",
       "      <th>price</th>\n",
       "      <th>income</th>\n",
       "      <th>profitability_20</th>\n",
       "    </tr>\n",
       "  </thead>\n",
       "  <tbody>\n",
       "    <tr>\n",
       "      <th>2019-01-01</th>\n",
       "      <td>0.0148</td>\n",
       "      <td>136.343</td>\n",
       "      <td>2.017876</td>\n",
       "      <td>0.592</td>\n",
       "    </tr>\n",
       "    <tr>\n",
       "      <th>2019-01-02</th>\n",
       "      <td>0.0161</td>\n",
       "      <td>149.513</td>\n",
       "      <td>2.407159</td>\n",
       "      <td>0.644</td>\n",
       "    </tr>\n",
       "    <tr>\n",
       "      <th>2019-01-03</th>\n",
       "      <td>0.0153</td>\n",
       "      <td>152.232</td>\n",
       "      <td>2.329150</td>\n",
       "      <td>0.612</td>\n",
       "    </tr>\n",
       "    <tr>\n",
       "      <th>2019-01-04</th>\n",
       "      <td>0.0154</td>\n",
       "      <td>152.948</td>\n",
       "      <td>2.355399</td>\n",
       "      <td>0.616</td>\n",
       "    </tr>\n",
       "    <tr>\n",
       "      <th>2019-01-05</th>\n",
       "      <td>0.0159</td>\n",
       "      <td>159.119</td>\n",
       "      <td>2.529992</td>\n",
       "      <td>0.636</td>\n",
       "    </tr>\n",
       "    <tr>\n",
       "      <th>...</th>\n",
       "      <td>...</td>\n",
       "      <td>...</td>\n",
       "      <td>...</td>\n",
       "      <td>...</td>\n",
       "    </tr>\n",
       "    <tr>\n",
       "      <th>2020-12-27</th>\n",
       "      <td>0.0486</td>\n",
       "      <td>662.017</td>\n",
       "      <td>32.174026</td>\n",
       "      <td>1.944</td>\n",
       "    </tr>\n",
       "    <tr>\n",
       "      <th>2020-12-28</th>\n",
       "      <td>0.0543</td>\n",
       "      <td>724.664</td>\n",
       "      <td>39.349255</td>\n",
       "      <td>2.172</td>\n",
       "    </tr>\n",
       "    <tr>\n",
       "      <th>2020-12-29</th>\n",
       "      <td>0.0509</td>\n",
       "      <td>719.423</td>\n",
       "      <td>36.618631</td>\n",
       "      <td>2.036</td>\n",
       "    </tr>\n",
       "    <tr>\n",
       "      <th>2020-12-30</th>\n",
       "      <td>0.0573</td>\n",
       "      <td>735.948</td>\n",
       "      <td>42.169820</td>\n",
       "      <td>2.292</td>\n",
       "    </tr>\n",
       "    <tr>\n",
       "      <th>2020-12-31</th>\n",
       "      <td>0.0536</td>\n",
       "      <td>741.144</td>\n",
       "      <td>39.725318</td>\n",
       "      <td>2.144</td>\n",
       "    </tr>\n",
       "  </tbody>\n",
       "</table>\n",
       "<p>731 rows × 4 columns</p>\n",
       "</div>"
      ],
      "text/plain": [
       "            profitability    price     income  profitability_20\n",
       "2019-01-01         0.0148  136.343   2.017876             0.592\n",
       "2019-01-02         0.0161  149.513   2.407159             0.644\n",
       "2019-01-03         0.0153  152.232   2.329150             0.612\n",
       "2019-01-04         0.0154  152.948   2.355399             0.616\n",
       "2019-01-05         0.0159  159.119   2.529992             0.636\n",
       "...                   ...      ...        ...               ...\n",
       "2020-12-27         0.0486  662.017  32.174026             1.944\n",
       "2020-12-28         0.0543  724.664  39.349255             2.172\n",
       "2020-12-29         0.0509  719.423  36.618631             2.036\n",
       "2020-12-30         0.0573  735.948  42.169820             2.292\n",
       "2020-12-31         0.0536  741.144  39.725318             2.144\n",
       "\n",
       "[731 rows x 4 columns]"
      ]
     },
     "execution_count": 62,
     "metadata": {},
     "output_type": "execute_result"
    }
   ],
   "source": [
    "df"
   ]
  },
  {
   "cell_type": "code",
   "execution_count": 63,
   "id": "union-compact",
   "metadata": {},
   "outputs": [
    {
     "data": {
      "text/plain": [
       "600.0992"
      ]
     },
     "execution_count": 63,
     "metadata": {},
     "output_type": "execute_result"
    }
   ],
   "source": [
    "df.profitability_20.sum()"
   ]
  },
  {
   "cell_type": "code",
   "execution_count": null,
   "id": "african-second",
   "metadata": {},
   "outputs": [],
   "source": []
  },
  {
   "cell_type": "code",
   "execution_count": 72,
   "id": "tested-selling",
   "metadata": {},
   "outputs": [],
   "source": [
    "df['cost_per_day'] = [0.432]*len(df)"
   ]
  },
  {
   "cell_type": "code",
   "execution_count": 74,
   "id": "experimental-aircraft",
   "metadata": {},
   "outputs": [
    {
     "data": {
      "text/plain": [
       "315.7920000000001"
      ]
     },
     "execution_count": 74,
     "metadata": {},
     "output_type": "execute_result"
    }
   ],
   "source": [
    "df.cost_per_day.sum()"
   ]
  },
  {
   "cell_type": "code",
   "execution_count": 75,
   "id": "martial-jamaica",
   "metadata": {},
   "outputs": [
    {
     "data": {
      "text/plain": [
       "285"
      ]
     },
     "execution_count": 75,
     "metadata": {},
     "output_type": "execute_result"
    }
   ],
   "source": [
    "600-315"
   ]
  },
  {
   "cell_type": "code",
   "execution_count": null,
   "id": "still-strength",
   "metadata": {},
   "outputs": [],
   "source": []
  },
  {
   "cell_type": "code",
   "execution_count": 21,
   "id": "selected-utilization",
   "metadata": {},
   "outputs": [],
   "source": []
  },
  {
   "cell_type": "code",
   "execution_count": 26,
   "id": "foreign-oasis",
   "metadata": {},
   "outputs": [
    {
     "data": {
      "image/png": "[encoded data removed]",
      "text/plain": [
       "<Figure size 1152x576 with 1 Axes>"
      ]
     },
     "metadata": {
      "needs_background": "light"
     },
     "output_type": "display_data"
    }
   ],
   "source": [
    "_, ax = plt.subplots(figsize=(16,8))\n",
    "ax.plot(series_price.index, series_price)\n",
    "plt.show()"
   ]
  },
  {
   "cell_type": "code",
   "execution_count": null,
   "id": "mental-earthquake",
   "metadata": {},
   "outputs": [],
   "source": []
  },
  {
   "cell_type": "code",
   "execution_count": null,
   "id": "worthy-stockholm",
   "metadata": {},
   "outputs": [],
   "source": []
  },
  {
   "attachments": {
    "e3054c94-c312-4c19-87eb-7d659b0113ba.png": {
     "image/png": "[encoded data removed]"
    }
   },
   "cell_type": "markdown",
   "id": "exceptional-presence",
   "metadata": {},
   "source": [
    "![image.png](attachment:e3054c94-c312-4c19-87eb-7d659b0113ba.png)"
   ]
  },
  {
   "cell_type": "code",
   "execution_count": 65,
   "id": "square-terrace",
   "metadata": {},
   "outputs": [
    {
     "data": {
      "text/plain": [
       "230"
      ]
     },
     "execution_count": 65,
     "metadata": {},
     "output_type": "execute_result"
    }
   ],
   "source": [
    "hours = 9*24 + 14\n",
    "hours"
   ]
  },
  {
   "cell_type": "code",
   "execution_count": 66,
   "id": "dominican-nursing",
   "metadata": {},
   "outputs": [
    {
     "data": {
      "text/plain": [
       "9.583333333333334"
      ]
     },
     "execution_count": 66,
     "metadata": {},
     "output_type": "execute_result"
    }
   ],
   "source": [
    "days = hours / 24\n",
    "days"
   ]
  },
  {
   "cell_type": "code",
   "execution_count": 67,
   "id": "outstanding-chester",
   "metadata": {},
   "outputs": [],
   "source": [
    "eth_mined = 0.085"
   ]
  },
  {
   "cell_type": "code",
   "execution_count": 68,
   "id": "suited-omega",
   "metadata": {},
   "outputs": [
    {
     "data": {
      "text/plain": [
       "0.008869565217391304"
      ]
     },
     "execution_count": 68,
     "metadata": {},
     "output_type": "execute_result"
    }
   ],
   "source": [
    "eth_per_day = eth_mined / days\n",
    "eth_per_day"
   ]
  },
  {
   "cell_type": "code",
   "execution_count": 69,
   "id": "falling-ontario",
   "metadata": {},
   "outputs": [
    {
     "data": {
      "text/plain": [
       "15.078260869565216"
      ]
     },
     "execution_count": 69,
     "metadata": {},
     "output_type": "execute_result"
    }
   ],
   "source": [
    "dollar_per_day = eth_per_day * 1700\n",
    "dollar_per_day"
   ]
  },
  {
   "cell_type": "code",
   "execution_count": 70,
   "id": "varying-arrangement",
   "metadata": {},
   "outputs": [
    {
     "data": {
      "text/plain": [
       "2.0104347826086952"
      ]
     },
     "execution_count": 70,
     "metadata": {},
     "output_type": "execute_result"
    }
   ],
   "source": [
    "dollar_per_day / 150 * 20"
   ]
  },
  {
   "cell_type": "code",
   "execution_count": null,
   "id": "angry-vulnerability",
   "metadata": {},
   "outputs": [],
   "source": []
  },
  {
   "cell_type": "code",
   "execution_count": null,
   "id": "sweet-leave",
   "metadata": {},
   "outputs": [],
   "source": []
  }
 ],
 "metadata": {
  "kernelspec": {
   "display_name": "Python 3",
   "language": "python",
   "name": "python3"
  },
  "language_info": {
   "codemirror_mode": {
    "name": "ipython",
    "version": 3
   },
   "file_extension": ".py",
   "mimetype": "text/x-python",
   "name": "python",
   "nbconvert_exporter": "python",
   "pygments_lexer": "ipython3",
   "version": "3.9.0"
  }
 },
 "nbformat": 4,
 "nbformat_minor": 5
}
