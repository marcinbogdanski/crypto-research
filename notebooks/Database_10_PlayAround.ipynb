{
 "cells": [
  {
   "cell_type": "markdown",
   "metadata": {},
   "source": [
    "# Imports"
   ]
  },
  {
   "cell_type": "code",
   "execution_count": null,
   "metadata": {},
   "outputs": [],
   "source": [
    "import datetime as dt\n",
    "\n",
    "import matplotlib.pyplot as plt\n",
    "import pymongo"
   ]
  },
  {
   "cell_type": "markdown",
   "metadata": {},
   "source": [
    "# MongoDB Connection"
   ]
  },
  {
   "cell_type": "code",
   "execution_count": null,
   "metadata": {},
   "outputs": [],
   "source": [
    "user = 'user'\n",
    "password = 'pass'\n",
    "node_ip = '192.168.2.20'\n",
    "node_port = '30017'\n",
    "url = f'mongodb://{user}:{password}@{node_ip}:{node_port}/'\n",
    "client = pymongo.MongoClient(url, serverSelectionTimeoutMS = 2000)\n",
    "client.server_info()"
   ]
  },
  {
   "cell_type": "code",
   "execution_count": null,
   "metadata": {},
   "outputs": [],
   "source": [
    "print('Databases:', client.list_database_names())\n",
    "db = client['test']\n",
    "print('Collections:', db.list_collection_names())\n",
    "collection = db['test']\n",
    "print('First Document:', str(collection.find_one())[:100])"
   ]
  },
  {
   "cell_type": "markdown",
   "metadata": {},
   "source": [
    "# Get Data"
   ]
  },
  {
   "cell_type": "code",
   "execution_count": null,
   "metadata": {},
   "outputs": [],
   "source": [
    "hours = 0.1\n",
    "offset = 0\n",
    "\n",
    "datetime_utcnow = dt.datetime.utcnow() - dt.timedelta(hours=offset)\n",
    "datetime_start = datetime_utcnow - dt.timedelta(hours=hours) - dt.timedelta(hours=offset)"
   ]
  },
  {
   "cell_type": "code",
   "execution_count": null,
   "metadata": {},
   "outputs": [],
   "source": [
    "query = {\n",
    "    'metadata.request_datetime_utc': {\n",
    "        '$gte': datetime_start,\n",
    "        '$lt': datetime_utcnow\n",
    "    }\n",
    "}"
   ]
  },
  {
   "cell_type": "code",
   "execution_count": null,
   "metadata": {},
   "outputs": [],
   "source": [
    "everything = []\n",
    "for x in collection.find(query):\n",
    "    everything.append(x)\n",
    "len(everything)"
   ]
  },
  {
   "cell_type": "markdown",
   "metadata": {},
   "source": [
    "# Plot Data"
   ]
  },
  {
   "cell_type": "code",
   "execution_count": null,
   "metadata": {},
   "outputs": [],
   "source": [
    "X_error, X_ok = [], []\n",
    "\n",
    "for x in everything:\n",
    "    request_datetime_utc = x['metadata']['request_datetime_utc']\n",
    "    if x['result'] is None:\n",
    "        X_error.append(request_datetime_utc)\n",
    "    else:\n",
    "        X_ok.append(request_datetime_utc)"
   ]
  },
  {
   "cell_type": "code",
   "execution_count": null,
   "metadata": {},
   "outputs": [],
   "source": [
    "X_has_invalid, X_all_valid = [], []\n",
    "\n",
    "for x in everything:\n",
    "    request_datetime_utc = x['metadata']['request_datetime_utc']\n",
    "    if x['result'] is not None:\n",
    "        num_invalid = x['result']['products_invalid'] if 'products_invalid' in x['result'] else 0\n",
    "        if num_invalid > 0:\n",
    "            X_has_invalid.append(request_datetime_utc)\n",
    "        else:\n",
    "            X_all_valid.append(request_datetime_utc)    "
   ]
  },
  {
   "cell_type": "code",
   "execution_count": null,
   "metadata": {},
   "outputs": [],
   "source": [
    "X_has_found, X_has_available = [], []\n",
    "\n",
    "for x in everything:\n",
    "    request_datetime_utc = x['metadata']['request_datetime_utc']\n",
    "    if x['result'] is not None:\n",
    "        num_found = x['result']['products_found']\n",
    "        num_available = x['result']['products_available']\n",
    "        \n",
    "        if num_found > 0:\n",
    "            X_has_found.append(request_datetime_utc)\n",
    "        if num_available > 0:\n",
    "            X_has_available.append(request_datetime_utc)    "
   ]
  },
  {
   "cell_type": "code",
   "execution_count": null,
   "metadata": {},
   "outputs": [],
   "source": [
    "_, ax = plt.subplots(figsize=(40,0.5))\n",
    "\n",
    "ax.scatter(X_has_found, [0]*len(X_has_found), color='lightgray')\n",
    "ax.scatter(X_has_available, [0]*len(X_has_available), color='green')\n",
    "\n",
    "ax.scatter(X_all_valid, [-1]*len(X_all_valid), color='lightgray')\n",
    "ax.scatter(X_has_invalid, [-1]*len(X_has_invalid), color='orange')\n",
    "\n",
    "ax.scatter(X_ok, [-2]*len(X_ok), color='lightgray')\n",
    "ax.scatter(X_error, [-2]*len(X_error), color='red')\n",
    "\n",
    "ax.set_ylim((-2.5, 0.5))\n",
    "ax.set_xlim((datetime_start, datetime_utcnow))\n",
    "\n",
    "plt.show()"
   ]
  },
  {
   "cell_type": "code",
   "execution_count": null,
   "metadata": {},
   "outputs": [],
   "source": []
  },
  {
   "cell_type": "code",
   "execution_count": null,
   "metadata": {},
   "outputs": [],
   "source": [
    "X, Y_num_found, Y_num_invalid, Y_num_available = [], [], [], []\n",
    "\n",
    "for x in everything:\n",
    "    request_datetime_utc = x['metadata']['request_datetime_utc']\n",
    "    if x['result'] is not None:\n",
    "        num_found = x['result']['products_found']\n",
    "        num_valid = x['result']['products_valid'] if 'products_valid' in x['result'] else num_found\n",
    "        num_invalid = x['result']['products_invalid'] if 'products_invalid' in x['result'] else 0\n",
    "        assert num_valid + num_invalid == num_found\n",
    "        num_available = x['result']['products_available']\n",
    "        \n",
    "        X.append(request_datetime_utc)\n",
    "        Y_num_found.append(num_found)\n",
    "        Y_num_invalid.append(num_invalid)\n",
    "        Y_num_available.append(num_available)        "
   ]
  },
  {
   "cell_type": "code",
   "execution_count": null,
   "metadata": {},
   "outputs": [],
   "source": [
    "_, ax = plt.subplots(figsize=(40,4))\n",
    "ax.scatter(X, Y_num_found, color='black', marker='_')\n",
    "ax.scatter(X, Y_num_invalid, color='orange', marker='_')\n",
    "ax.scatter(X, Y_num_available, color='green', marker='_')\n",
    "plt.show()"
   ]
  },
  {
   "cell_type": "markdown",
   "metadata": {},
   "source": [
    "# Check Error"
   ]
  },
  {
   "cell_type": "code",
   "execution_count": null,
   "metadata": {},
   "outputs": [],
   "source": [
    "sum(p == True for p in [True, True, False, None])"
   ]
  },
  {
   "cell_type": "code",
   "execution_count": null,
   "metadata": {},
   "outputs": [],
   "source": [
    "query = {\n",
    "    'metadata.error_report': {\n",
    "        '$exists': True\n",
    "    }\n",
    "}"
   ]
  },
  {
   "cell_type": "code",
   "execution_count": null,
   "metadata": {},
   "outputs": [],
   "source": [
    "everything = []\n",
    "for x in collection.find(query):\n",
    "    everything.append(x)\n",
    "len(everything)"
   ]
  },
  {
   "cell_type": "code",
   "execution_count": null,
   "metadata": {},
   "outputs": [],
   "source": []
  },
  {
   "cell_type": "code",
   "execution_count": null,
   "metadata": {},
   "outputs": [],
   "source": [
    "with open('page.html', 'w') as f:\n",
    "    f.write(x['metadata']['listing_pages'][0])"
   ]
  },
  {
   "cell_type": "code",
   "execution_count": null,
   "metadata": {},
   "outputs": [],
   "source": []
  }
 ],
 "metadata": {
  "kernelspec": {
   "display_name": "Python 3",
   "language": "python",
   "name": "python3"
  },
  "language_info": {
   "codemirror_mode": {
    "name": "ipython",
    "version": 3
   },
   "file_extension": ".py",
   "mimetype": "text/x-python",
   "name": "python",
   "nbconvert_exporter": "python",
   "pygments_lexer": "ipython3",
   "version": "3.9.0"
  }
 },
 "nbformat": 4,
 "nbformat_minor": 4
}
